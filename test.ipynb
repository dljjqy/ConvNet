{
 "cells": [
  {
   "cell_type": "code",
   "execution_count": 14,
   "id": "f4c47495",
   "metadata": {},
   "outputs": [],
   "source": [
    "import numpy as np\n",
    "import torch\n",
    "import scipy.linalg as sla\n",
    "from models import *\n",
    "from pl_modules.LAModel import LAModel\n",
    "from utils.deltas import normal\n",
    "from scipy import sparse\n",
    "from pathlib import Path"
   ]
  },
  {
   "cell_type": "code",
   "execution_count": 23,
   "id": "faa2eb13",
   "metadata": {},
   "outputs": [
    {
     "name": "stdout",
     "output_type": "stream",
     "text": [
      "lightning_logs/cg_64_varyUNet4_16_bs16_mixedN\n"
     ]
    }
   ],
   "source": [
    "def test_cases(cases, ckpt_path, imgs_save_path, a=1):\n",
    "    for f in ckpt_path.iterdir():\n",
    "        print(f)\n",
    "        # Get all parameters from the ckpt name\n",
    "        backward_method, n, model_name, features, bs, data_type = f.name.split('_')\n",
    "        n = int(n)\n",
    "        layers = int(model_name[-1])\n",
    "        model_name = model_name[:-1]\n",
    "        features = int(features)\n",
    "        bs = int(bs[2:])\n",
    "        boundary_type = data_type[-1]\n",
    "        data_type = data_type[:-1]\n",
    "\n",
    "        h = 2*a / (n -1)\n",
    "        h2 = h ** 2\n",
    "        x = np.linspace(-a, a, n)\n",
    "        y = np.linspace(-a, a, n)\n",
    "        xx, yy = np.meshgrid(x, y)\n",
    "        \n",
    "        # get network\n",
    "        mat_path = f'./data/{n}/mat/'\n",
    "        net = model_names[model_name](layers = layers, features = features, boundary_type = boundary_type)\n",
    "        pl_module = LAModel(net, a, n, data_path = mat_path, backward_type=backward_method, boundary_type=boundary_type)\n",
    "\n",
    "        # get matrix\n",
    "        # A = pl_module.A\n",
    "        lu, piv = sla.lu_factor(pl_module.A.to_dense().numpy())\n",
    "        \n",
    "        #get image save path and ckpy file path\n",
    "        img_path = imgs_save_path/f.name\n",
    "        ckpt = f/'version_0'/'checkpoints'/'last.ckpt'\n",
    "\n",
    "        # Load ckpt\n",
    "        ckpt = torch.load(ckpt)\n",
    "        pl_module.load_state_dict(ckpt['state_dict'])\n",
    "        pl_module.freeze()\n",
    "\n",
    "        # Test all cases\n",
    "        for case in test_cases:\n",
    "            f = np.zeros((n, n))\n",
    "            for i in case:\n",
    "                px, py, q = i\n",
    "                f += q * normal(xx, yy, h, (px, py))\n",
    "            \n",
    "                # Get input tensor for networks\n",
    "                input_tensor = np.stack([xx, yy, f], axis=0)\n",
    "                input_tensor = torch.from_numpy(input_tensor).float()\n",
    "            \n",
    "                # Get b for linear equations, If the value of boundary changed should fix here\n",
    "                b = f.reshape(n**2)\n",
    "                # b = apply_boundary(b, gn, gd)\n",
    "\n",
    "                # get predicted value and real ans\n",
    "                ans = sla.lu_solve((lu, piv), b)\n",
    "\n",
    "\n",
    "cases = [\n",
    "    [(0, 0, 1)],\n",
    "    [(-0.5, -0.5, 1), (0.5, 0.5, 1)],\n",
    "]\n",
    "ckpt_path = Path('./lightning_logs/')\n",
    "imgs_save_path = Path('./images/')\n",
    "test_cases(cases, ckpt_path, imgs_save_path)"
   ]
  }
 ],
 "metadata": {
  "kernelspec": {
   "display_name": "Python 3.9.13 ('base')",
   "language": "python",
   "name": "python3"
  },
  "language_info": {
   "codemirror_mode": {
    "name": "ipython",
    "version": 3
   },
   "file_extension": ".py",
   "mimetype": "text/x-python",
   "name": "python",
   "nbconvert_exporter": "python",
   "pygments_lexer": "ipython3",
   "version": "3.9.13"
  },
  "vscode": {
   "interpreter": {
    "hash": "51bec75535e8b8e121f5058573fd16f5d4f5054d3fb39f60867bdc80b6d322e7"
   }
  }
 },
 "nbformat": 4,
 "nbformat_minor": 5
}
